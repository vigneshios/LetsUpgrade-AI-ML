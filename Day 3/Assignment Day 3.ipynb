{
 "cells": [
  {
   "cell_type": "code",
   "execution_count": 1,
   "metadata": {},
   "outputs": [],
   "source": [
    "#1. Write a program to subtract two complex numbers in Python."
   ]
  },
  {
   "cell_type": "code",
   "execution_count": 2,
   "metadata": {},
   "outputs": [],
   "source": [
    "#A complex number is created from two real numbers"
   ]
  },
  {
   "cell_type": "code",
   "execution_count": 5,
   "metadata": {},
   "outputs": [
    {
     "name": "stdout",
     "output_type": "stream",
     "text": [
      "Subtraction of two complex number= (-6-10j)\n"
     ]
    }
   ],
   "source": [
    "complexno1 = 2 + 8j\n",
    "complexno2 = 8 + 18j\n",
    "print('Subtraction of two complex number=', complexno1 - complexno2)\n"
   ]
  },
  {
   "cell_type": "code",
   "execution_count": null,
   "metadata": {},
   "outputs": [],
   "source": []
  },
  {
   "cell_type": "code",
   "execution_count": 6,
   "metadata": {},
   "outputs": [],
   "source": [
    "#2.Write a program to find the fourth root of a number."
   ]
  },
  {
   "cell_type": "code",
   "execution_count": 15,
   "metadata": {},
   "outputs": [
    {
     "name": "stdout",
     "output_type": "stream",
     "text": [
      "FOurth square root =  1.189207115002721\n"
     ]
    }
   ],
   "source": [
    "num = 2\n",
    "\n",
    "num_sqrt = num ** 0.5\n",
    "fourth_Root = num_sqrt ** 0.5\n",
    "print(\"FOurth square root = \", fourth_Root)\n",
    "   \n",
    "    "
   ]
  },
  {
   "cell_type": "code",
   "execution_count": null,
   "metadata": {},
   "outputs": [],
   "source": []
  },
  {
   "cell_type": "code",
   "execution_count": 16,
   "metadata": {},
   "outputs": [],
   "source": [
    "#3.Write a program to swap two numbers in Python with the help of a temporary variable."
   ]
  },
  {
   "cell_type": "code",
   "execution_count": 21,
   "metadata": {},
   "outputs": [
    {
     "name": "stdout",
     "output_type": "stream",
     "text": [
      "Value of a with temp variables = 5\n",
      "Value of b with temp variables= 4\n"
     ]
    }
   ],
   "source": [
    "a = 4\n",
    "b = 5\n",
    "\n",
    "#using a temporary variable\n",
    "temp = a\n",
    "\n",
    "#swap\n",
    "a=b\n",
    "b=temp\n",
    "\n",
    "print(\"Value of a with temp variables =\",a)\n",
    "print(\"Value of b with temp variables=\",b)\n",
    "\n"
   ]
  },
  {
   "cell_type": "code",
   "execution_count": null,
   "metadata": {},
   "outputs": [],
   "source": []
  },
  {
   "cell_type": "code",
   "execution_count": 19,
   "metadata": {},
   "outputs": [],
   "source": [
    "#4.Write a program to swap two numbers in Python without using a temporary variable."
   ]
  },
  {
   "cell_type": "code",
   "execution_count": 23,
   "metadata": {},
   "outputs": [
    {
     "name": "stdout",
     "output_type": "stream",
     "text": [
      "Value of a without temp variables = 5\n",
      "Value of b without temp variables= 4\n"
     ]
    }
   ],
   "source": [
    "a = a + b # 4 + 5 = 9\n",
    "b = a - b #9 - 5 = 4\n",
    "a = a - b #9-4 = 5\n",
    "\n",
    "\n",
    "print(\"Value of a without temp variables =\",a)\n",
    "print(\"Value of b without temp variables=\",b)\n",
    "\n"
   ]
  },
  {
   "cell_type": "code",
   "execution_count": null,
   "metadata": {},
   "outputs": [],
   "source": []
  },
  {
   "cell_type": "code",
   "execution_count": 24,
   "metadata": {},
   "outputs": [],
   "source": [
    "# 5.Write a program to convert fahrenheit to kelvin and celsius both"
   ]
  },
  {
   "cell_type": "code",
   "execution_count": 28,
   "metadata": {},
   "outputs": [
    {
     "name": "stdout",
     "output_type": "stream",
     "text": [
      "40.5\n",
      "104.9\n"
     ]
    }
   ],
   "source": [
    "celsius = 40.5\n",
    "\n",
    "# calculate fahrenheit\n",
    "fahrenheit = (celsius * 1.8) + 32\n",
    "\n",
    "print(celsius)\n",
    "print(fahrenheit)\n",
    "\n"
   ]
  },
  {
   "cell_type": "code",
   "execution_count": 29,
   "metadata": {},
   "outputs": [
    {
     "name": "stdout",
     "output_type": "stream",
     "text": [
      "40.5\n"
     ]
    }
   ],
   "source": [
    "celsius = (fahrenheit - 32) / 1.8\n",
    "print(celsius)"
   ]
  },
  {
   "cell_type": "code",
   "execution_count": null,
   "metadata": {},
   "outputs": [],
   "source": []
  },
  {
   "cell_type": "code",
   "execution_count": 30,
   "metadata": {},
   "outputs": [],
   "source": [
    "# 6.Write a program to demonstrate all the available data types in Python. Hint: Use type() function."
   ]
  },
  {
   "cell_type": "code",
   "execution_count": 39,
   "metadata": {},
   "outputs": [
    {
     "name": "stdout",
     "output_type": "stream",
     "text": [
      "<class 'int'>\n",
      "<class 'float'>\n",
      "<class 'complex'>\n",
      "<class 'str'>\n",
      "<class 'bool'>\n",
      "<class 'list'>\n",
      "<class 'dict'>\n",
      "<class 'tuple'>\n"
     ]
    }
   ],
   "source": [
    "#Datatypes\n",
    "intVal = 1\n",
    "floatVal = 6.2\n",
    "complexVal = 1+3j\n",
    "strVal = \"Hello World\"\n",
    "isTrue = False\n",
    "\n",
    "print(type(intVal))\n",
    "print(type(floatVal))\n",
    "print(type(complexVal))\n",
    "print(type(strVal))\n",
    "print(type(isTrue))\n",
    "\n",
    "#Collection\n",
    "myList = ['h','e',24,'l', \"o\",54]\n",
    "myDict = {\"name1\":\"vignesh\", \"name2\": \"Ling\", \"name3\": \"pradeep\" }\n",
    "tupValues = (32,33,33,33,44,55,66)\n",
    "\n",
    "print(type(myList))\n",
    "print(type(myDict))\n",
    "print(type(tupValues))\n",
    "\n",
    "\n",
    "\n"
   ]
  },
  {
   "cell_type": "code",
   "execution_count": null,
   "metadata": {},
   "outputs": [],
   "source": []
  },
  {
   "cell_type": "code",
   "execution_count": 40,
   "metadata": {},
   "outputs": [],
   "source": [
    "#Create a Markdown cell in jupyter and list the steps discussed in the session by Dr. Darshan Ingle sir to create Github profile and upload Githubs Assignment link."
   ]
  },
  {
   "cell_type": "markdown",
   "metadata": {},
   "source": [
    "1.Create a github account with valid credentials.\n",
    "2.Create and initialise an empty repository with name - \"LetsUpgrade-AI-ML\".\n",
    "3.Maintain the repository as public.\n",
    "4.Maintain one single repo with different folders by \"Day\"\n",
    "5.Add file and commit the file\n"
   ]
  }
 ],
 "metadata": {
  "kernelspec": {
   "display_name": "Python 3",
   "language": "python",
   "name": "python3"
  },
  "language_info": {
   "codemirror_mode": {
    "name": "ipython",
    "version": 3
   },
   "file_extension": ".py",
   "mimetype": "text/x-python",
   "name": "python",
   "nbconvert_exporter": "python",
   "pygments_lexer": "ipython3",
   "version": "3.7.6"
  }
 },
 "nbformat": 4,
 "nbformat_minor": 4
}
