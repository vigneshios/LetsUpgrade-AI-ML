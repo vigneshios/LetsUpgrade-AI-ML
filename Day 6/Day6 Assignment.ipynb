{
 "cells": [
  {
   "cell_type": "code",
   "execution_count": 1,
   "metadata": {},
   "outputs": [],
   "source": [
    "# Assuming that we have some email addresses in the \"username@companyname.com\" format, \n",
    "#please write program to print the company name of a given email address.\n",
    "#Both user names and company names are composed of letters only."
   ]
  },
  {
   "cell_type": "code",
   "execution_count": 4,
   "metadata": {},
   "outputs": [
    {
     "data": {
      "text/plain": [
       "'name@apple.com'"
      ]
     },
     "execution_count": 4,
     "metadata": {},
     "output_type": "execute_result"
    }
   ],
   "source": [
    "import re\n",
    "\n",
    "email = \"name@apple.com\"\n",
    "email"
   ]
  },
  {
   "cell_type": "code",
   "execution_count": 5,
   "metadata": {},
   "outputs": [
    {
     "name": "stdout",
     "output_type": "stream",
     "text": [
      "apple\n"
     ]
    }
   ],
   "source": [
    "print(email.split(\"@\")[1].split(\".\")[0])"
   ]
  },
  {
   "cell_type": "code",
   "execution_count": null,
   "metadata": {},
   "outputs": [],
   "source": []
  },
  {
   "cell_type": "code",
   "execution_count": 6,
   "metadata": {},
   "outputs": [],
   "source": [
    "#Write a program that accepts a comma-separated sequence of words as input;\n",
    "#print the words in a comma separated sequence after sorting them alphabetically."
   ]
  },
  {
   "cell_type": "code",
   "execution_count": 7,
   "metadata": {},
   "outputs": [
    {
     "data": {
      "text/plain": [
       "['ddd', 'sss', 'bbb', 'kk', 'aaa', 'pp2', 'zzz']"
      ]
     },
     "execution_count": 7,
     "metadata": {},
     "output_type": "execute_result"
    }
   ],
   "source": [
    "myUnsortedList = ['ddd','sss','bbb','kk','aaa','pp2','zzz']\n",
    "myUnsortedList\n"
   ]
  },
  {
   "cell_type": "code",
   "execution_count": 9,
   "metadata": {},
   "outputs": [
    {
     "data": {
      "text/plain": [
       "['aaa', 'bbb', 'ddd', 'kk', 'pp2', 'sss', 'zzz']"
      ]
     },
     "execution_count": 9,
     "metadata": {},
     "output_type": "execute_result"
    }
   ],
   "source": [
    "sortedList = sorted(myUnsortedList)\n",
    "sortedList"
   ]
  },
  {
   "cell_type": "code",
   "execution_count": null,
   "metadata": {},
   "outputs": [],
   "source": [
    "#Create your own Jupyter Notebook for Sets."
   ]
  },
  {
   "cell_type": "raw",
   "metadata": {},
   "source": [
    "#Set is created by using - {} separated by commas\n",
    "#Sets cannot have dupicates.\n",
    "#some of the functions that can be used with sets are \n",
    "#add, update, pop, clear,remove, discard,union,intersection,difference,"
   ]
  },
  {
   "cell_type": "code",
   "execution_count": 28,
   "metadata": {},
   "outputs": [],
   "source": [
    "myMovieSet1 = {'troy','fury','fightClub'}\n",
    "myMovieSet2 = {'Oceans 11','Oceans 12','Oceans 13'}"
   ]
  },
  {
   "cell_type": "code",
   "execution_count": 29,
   "metadata": {},
   "outputs": [
    {
     "name": "stdout",
     "output_type": "stream",
     "text": [
      "fury\n",
      "fightClub\n",
      "troy\n"
     ]
    }
   ],
   "source": [
    "for i in myMovieSet1:\n",
    "    print(i)"
   ]
  },
  {
   "cell_type": "code",
   "execution_count": 30,
   "metadata": {},
   "outputs": [],
   "source": [
    "myMovieSet2.add('oceans 7')"
   ]
  },
  {
   "cell_type": "code",
   "execution_count": 31,
   "metadata": {},
   "outputs": [
    {
     "name": "stdout",
     "output_type": "stream",
     "text": [
      "Oceans 13\n",
      "Oceans 12\n",
      "oceans 7\n",
      "Oceans 11\n"
     ]
    }
   ],
   "source": [
    "for i in myMovieSet2:\n",
    "    print(i)"
   ]
  },
  {
   "cell_type": "code",
   "execution_count": 33,
   "metadata": {},
   "outputs": [
    {
     "data": {
      "text/plain": [
       "{'Oceans 11', 'Oceans 12', 'Oceans 13'}"
      ]
     },
     "execution_count": 33,
     "metadata": {},
     "output_type": "execute_result"
    }
   ],
   "source": [
    "myMovieSet2.discard('oceans 7')\n",
    "myMovieSet2"
   ]
  },
  {
   "cell_type": "code",
   "execution_count": 35,
   "metadata": {},
   "outputs": [
    {
     "name": "stdout",
     "output_type": "stream",
     "text": [
      "yes, the movie is available now\n"
     ]
    }
   ],
   "source": [
    "if \"troy\" in myMovieSet1:\n",
    "    print(\"yes, the movie is available now\")\n",
    "else:\n",
    "    print(\"Sorry, movie is not available now\")"
   ]
  },
  {
   "cell_type": "code",
   "execution_count": 37,
   "metadata": {},
   "outputs": [
    {
     "data": {
      "text/plain": [
       "{'Oceans 11', 'Oceans 12', 'Oceans 13', 'fightClub', 'fury', 'troy'}"
      ]
     },
     "execution_count": 37,
     "metadata": {},
     "output_type": "execute_result"
    }
   ],
   "source": [
    "bradPittMovies = myMovieSet1.union(myMovieSet2)\n",
    "bradPittMovies\n"
   ]
  },
  {
   "cell_type": "code",
   "execution_count": null,
   "metadata": {},
   "outputs": [],
   "source": []
  },
  {
   "cell_type": "code",
   "execution_count": null,
   "metadata": {},
   "outputs": [],
   "source": []
  },
  {
   "cell_type": "code",
   "execution_count": 45,
   "metadata": {},
   "outputs": [
    {
     "name": "stdout",
     "output_type": "stream",
     "text": [
      "[6, 7]\n"
     ]
    }
   ],
   "source": [
    "#missing element from a list\n",
    "\n",
    "a = [1,2,3,4,5,8,9,10]\n",
    "missing_element = []\n",
    "for i in range(a[0], a[-1]+1):\n",
    "    if i not in a:\n",
    "        missing_element.append(i)\n",
    "\n",
    "print (missing_element)"
   ]
  },
  {
   "cell_type": "code",
   "execution_count": 46,
   "metadata": {},
   "outputs": [],
   "source": [
    "# Given a list of n-1 numbers ranging from 1 to n, your task is to find the missing number. \n",
    "#There are no duplicates."
   ]
  },
  {
   "cell_type": "markdown",
   "metadata": {},
   "source": [
    "\n",
    "Input Format:\n",
    "The first line contains n-1 numbers with each number separated by a space. Output Format:\n",
    "Print the missing number\n",
    "Example:\n",
    "Input:1 2 4 6 3 7 8\n",
    "Output:5"
   ]
  },
  {
   "cell_type": "code",
   "execution_count": 85,
   "metadata": {},
   "outputs": [
    {
     "data": {
      "text/plain": [
       "'1 4 5 7 8 9'"
      ]
     },
     "execution_count": 85,
     "metadata": {},
     "output_type": "execute_result"
    }
   ],
   "source": [
    "num = '1 4 5 7 8 9'\n",
    "num"
   ]
  },
  {
   "cell_type": "code",
   "execution_count": 86,
   "metadata": {},
   "outputs": [
    {
     "data": {
      "text/plain": [
       "['1', '4', '5', '7', '8', '9']"
      ]
     },
     "execution_count": 86,
     "metadata": {},
     "output_type": "execute_result"
    }
   ],
   "source": [
    "num.split()"
   ]
  },
  {
   "cell_type": "code",
   "execution_count": 87,
   "metadata": {},
   "outputs": [],
   "source": [
    "num = map(int ,num.split(' '))"
   ]
  },
  {
   "cell_type": "code",
   "execution_count": null,
   "metadata": {},
   "outputs": [],
   "source": [
    "\n",
    "# 1, 2, 4, 5, 6.\n",
    "#take 'n' as 6 and do n(n+1)/2.\n",
    "#So 6(6+1)/2 = 42/2 = 21.\n",
    "#Now sum all elements 1+2+4+5+6=18\n",
    "\n",
    "#Now subtract 21-18 = 3,"
   ]
  },
  {
   "cell_type": "code",
   "execution_count": 88,
   "metadata": {},
   "outputs": [
    {
     "data": {
      "text/plain": [
       "[1, 4, 5, 7, 8, 9]"
      ]
     },
     "execution_count": 88,
     "metadata": {},
     "output_type": "execute_result"
    }
   ],
   "source": [
    "x = list(num)\n",
    "x"
   ]
  },
  {
   "cell_type": "code",
   "execution_count": 81,
   "metadata": {},
   "outputs": [
    {
     "name": "stdout",
     "output_type": "stream",
     "text": [
      "-6.0\n"
     ]
    }
   ],
   "source": [
    "#write a function\n",
    "\n",
    "def findMissingNum(listVal):\n",
    "    n = len(listVal)\n",
    "    totalVal = (n + 1)*(n + 2)/2\n",
    "    sumVal = sum(listVal)\n",
    "    return totalVal - sumVal\n",
    "\n",
    "missingNum = findMissingNum(x)\n",
    "print(missingNum)\n",
    "\n",
    "\n",
    "#not working efficiently..good for one val"
   ]
  },
  {
   "cell_type": "code",
   "execution_count": null,
   "metadata": {},
   "outputs": [],
   "source": [
    "#convert the list to set and simply output the difference between this set\n",
    "#and a set that contains integers ranging from min(lst) and max(lst).\n",
    "\n",
    "def findMissingValues(lst): \n",
    "    return sorted(set(range(lst[0], lst[-1])) - set(lst))\n",
    "\n",
    "missingValues = findMissingValues(x)\n",
    "print(missingValues)\n",
    "\n",
    "\n",
    "\n",
    "\n"
   ]
  },
  {
   "cell_type": "code",
   "execution_count": 82,
   "metadata": {},
   "outputs": [],
   "source": [
    "# write a program to print this list L after removing all duplicate values with original order reserved."
   ]
  },
  {
   "cell_type": "code",
   "execution_count": 83,
   "metadata": {},
   "outputs": [
    {
     "name": "stdout",
     "output_type": "stream",
     "text": [
      "[12, 24, 35]\n"
     ]
    }
   ],
   "source": [
    "dataList = '12 24 35 24'\n",
    "dataList = map(int, dataList.split(' '))\n",
    "\n",
    "dataList = list(dict.fromkeys(dataList))\n",
    "\n",
    "print(dataList)\n"
   ]
  },
  {
   "cell_type": "code",
   "execution_count": null,
   "metadata": {},
   "outputs": [],
   "source": []
  }
 ],
 "metadata": {
  "kernelspec": {
   "display_name": "Python 3",
   "language": "python",
   "name": "python3"
  },
  "language_info": {
   "codemirror_mode": {
    "name": "ipython",
    "version": 3
   },
   "file_extension": ".py",
   "mimetype": "text/x-python",
   "name": "python",
   "nbconvert_exporter": "python",
   "pygments_lexer": "ipython3",
   "version": "3.7.6"
  }
 },
 "nbformat": 4,
 "nbformat_minor": 4
}
