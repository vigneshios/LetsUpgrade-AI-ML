{
 "cells": [
  {
   "cell_type": "code",
   "execution_count": 1,
   "metadata": {},
   "outputs": [],
   "source": [
    "#Question - 1:\n",
    "\n",
    "# Research on whether addition, subtraction, multiplication, division,\n",
    "#floor division and modulo operations be performed on complex numbers. \n",
    "#Based on your study, implement a Python program to demonstrate these operations."
   ]
  },
  {
   "cell_type": "code",
   "execution_count": 2,
   "metadata": {},
   "outputs": [
    {
     "name": "stdout",
     "output_type": "stream",
     "text": [
      "Addition of two complex numbers :  (7-4j)\n",
      "Subtraction of two complex numbers :  (1+10j)\n",
      "Multiplication of two complex numbers :  (33-19j)\n",
      "Division of two complex numbers :  (-0.15517241379310348+0.6379310344827587j)\n"
     ]
    }
   ],
   "source": [
    "print(\"Addition of two complex numbers : \",(4+3j)+(3-7j))\n",
    "print(\"Subtraction of two complex numbers : \",(4+3j)-(3-7j))\n",
    "print(\"Multiplication of two complex numbers : \",(4+3j)*(3-7j))\n",
    "print(\"Division of two complex numbers : \",(4+3j)/(3-7j))\n"
   ]
  },
  {
   "cell_type": "code",
   "execution_count": null,
   "metadata": {},
   "outputs": [],
   "source": []
  },
  {
   "cell_type": "code",
   "execution_count": 3,
   "metadata": {},
   "outputs": [],
   "source": [
    "#Question - 2:\n",
    "\n",
    "#Research on range() functions and its parameters. \n",
    "#Create a markdown cell and write in your own words (no copy-paste from google please) what you understand about it.\n",
    "#Implement a small program of your choice on the same."
   ]
  },
  {
   "cell_type": "markdown",
   "metadata": {},
   "source": [
    "range(0,10)\n",
    "print(list(range(0,10)))\n",
    "print(list(range(2,10,2)))\n",
    "\n",
    "\n",
    "output:\n",
    "[0, 1, 2, 3, 4, 5, 6, 7, 8, 9]\n",
    "[2, 4, 6, 8]\n",
    "\n",
    "As name range suggests,it gives the output of series of numbers within the given range. It helps not only where to start but also where to stop..Also when three arguments are passed, it not notifies which argument to start and end but also the difference between each of them.."
   ]
  },
  {
   "cell_type": "code",
   "execution_count": null,
   "metadata": {},
   "outputs": [],
   "source": []
  },
  {
   "cell_type": "code",
   "execution_count": 4,
   "metadata": {},
   "outputs": [],
   "source": [
    "#Question - 3:\n",
    "\n",
    "#Consider two numbers. Perform their subtraction and if the result of subtraction is greater than 25,\n",
    "#print their multiplication result else print their division result"
   ]
  },
  {
   "cell_type": "code",
   "execution_count": 6,
   "metadata": {},
   "outputs": [
    {
     "name": "stdout",
     "output_type": "stream",
     "text": [
      "Values of a & b are =  100 50\n"
     ]
    }
   ],
   "source": [
    "a = 100\n",
    "b = 50\n",
    "\n",
    "print(\"Values of a & b are = \", a, b)"
   ]
  },
  {
   "cell_type": "code",
   "execution_count": 9,
   "metadata": {},
   "outputs": [
    {
     "name": "stdout",
     "output_type": "stream",
     "text": [
      "Difference between the numbers is =  50\n"
     ]
    }
   ],
   "source": [
    "c = a-b\n",
    "print(\"Difference between the numbers is = \", c)"
   ]
  },
  {
   "cell_type": "code",
   "execution_count": 10,
   "metadata": {},
   "outputs": [
    {
     "name": "stdout",
     "output_type": "stream",
     "text": [
      "the difference is greater than 25, so new data presented is = 5000\n"
     ]
    }
   ],
   "source": [
    "if c > 25:\n",
    "    c=a*b\n",
    "    print(\"the difference is greater than 25, so new data presented is =\",c)\n",
    "else:\n",
    "    c=a/b\n",
    "    print(\"the difference is lesser than 25, so new data presented is =\",c)"
   ]
  },
  {
   "cell_type": "code",
   "execution_count": null,
   "metadata": {},
   "outputs": [],
   "source": []
  },
  {
   "cell_type": "code",
   "execution_count": 11,
   "metadata": {},
   "outputs": [],
   "source": [
    "# Question - 4\n",
    "\n",
    "#Consider a list of 10 elements of integer values. \n",
    "#If the number in the list is divisible by 2, \n",
    "#print the result as \"square of that number minus 2\"."
   ]
  },
  {
   "cell_type": "code",
   "execution_count": 13,
   "metadata": {},
   "outputs": [
    {
     "data": {
      "text/plain": [
       "[0, 1, 2, 3, 4, 5, 6, 7, 8, 9]"
      ]
     },
     "execution_count": 13,
     "metadata": {},
     "output_type": "execute_result"
    }
   ],
   "source": [
    "myList = [0,1,2,3,4,5,6,7,8,9]\n",
    "myList"
   ]
  },
  {
   "cell_type": "code",
   "execution_count": 17,
   "metadata": {},
   "outputs": [
    {
     "name": "stdout",
     "output_type": "stream",
     "text": [
      "0\n",
      "this number is not divisible by 2 1\n",
      "2\n",
      "this number is not divisible by 2 3\n",
      "4\n",
      "this number is not divisible by 2 5\n",
      "6\n",
      "this number is not divisible by 2 7\n",
      "8\n",
      "this number is not divisible by 2 9\n"
     ]
    }
   ],
   "source": [
    "for i in myList:\n",
    "    if (i % 2) == 0:\n",
    "        print(i)\n",
    "    else:\n",
    "        print(\"this number is not divisible by 2\", i)\n",
    "        \n",
    "     \n",
    "    "
   ]
  },
  {
   "cell_type": "code",
   "execution_count": null,
   "metadata": {},
   "outputs": [],
   "source": []
  },
  {
   "cell_type": "code",
   "execution_count": 18,
   "metadata": {},
   "outputs": [],
   "source": [
    "#Question 5\n",
    "\n",
    "#Consider a list of 10 elements. \n",
    "#Print all the elements in the list which are greater than 7 when that number is divided 2."
   ]
  },
  {
   "cell_type": "code",
   "execution_count": 21,
   "metadata": {},
   "outputs": [
    {
     "data": {
      "text/plain": [
       "[2, 32, 4, 5, 45, 9, 14, 1, 3, 4]"
      ]
     },
     "execution_count": 21,
     "metadata": {},
     "output_type": "execute_result"
    }
   ],
   "source": [
    "myList = [2,32,4,5,45,9,14,1,3,4]\n",
    "myList"
   ]
  },
  {
   "cell_type": "code",
   "execution_count": 25,
   "metadata": {},
   "outputs": [
    {
     "name": "stdout",
     "output_type": "stream",
     "text": [
      "16.0\n",
      "22.5\n"
     ]
    }
   ],
   "source": [
    "for i in myList:\n",
    "    j = i / 2\n",
    "    if j > 7:\n",
    "        print(j)"
   ]
  },
  {
   "cell_type": "code",
   "execution_count": null,
   "metadata": {},
   "outputs": [],
   "source": []
  }
 ],
 "metadata": {
  "kernelspec": {
   "display_name": "Python 3",
   "language": "python",
   "name": "python3"
  },
  "language_info": {
   "codemirror_mode": {
    "name": "ipython",
    "version": 3
   },
   "file_extension": ".py",
   "mimetype": "text/x-python",
   "name": "python",
   "nbconvert_exporter": "python",
   "pygments_lexer": "ipython3",
   "version": "3.7.6"
  }
 },
 "nbformat": 4,
 "nbformat_minor": 4
}
